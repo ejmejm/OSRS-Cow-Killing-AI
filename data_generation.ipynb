{
 "cells": [
  {
   "cell_type": "code",
   "execution_count": 13,
   "metadata": {},
   "outputs": [],
   "source": [
    "import numpy as np\n",
    "import matplotlib.pyplot as plt\n",
    "import copy\n",
    "from IPython.html import widgets\n",
    "from IPython.display import display, clear_output\n",
    "\n",
    "from screen_utils import *\n",
    "from cv_utils import *"
   ]
  },
  {
   "cell_type": "code",
   "execution_count": 14,
   "metadata": {},
   "outputs": [],
   "source": [
    "def gen_training_data(fps, video_len, initial_wait=1.5):\n",
    "    time.sleep(initial_wait)\n",
    "    \n",
    "    window_coords = get_window_coords()\n",
    "    window_width = window_coords[2] - window_coords[0]\n",
    "    window_height = window_coords[3] - window_coords[1]\n",
    "\n",
    "    tracker = ObjectTracker(300, 3000, time_threshold=2, n_hist=4,\n",
    "                            stationary_threshold=5)\n",
    "\n",
    "    train_image_buffer = []\n",
    "    \n",
    "    for i in range(int(video_len * fps)):\n",
    "        prev_time = time.time()\n",
    "        window_pixels = grab_area(*window_coords)\n",
    "        mask = get_cow_mask(window_pixels)\n",
    "        \n",
    "        bounding_boxes = get_bounding_boxes(mask)\n",
    "        objects = tracker.add_frame(bounding_boxes)\n",
    "\n",
    "        obj_centers = set(objects.values())\n",
    "        for bounding_box in bounding_boxes:\n",
    "            if bounding_box[0] in obj_centers:\n",
    "                x, y, width, height = bounding_box[1]\n",
    "                cropped_img = window_pixels[y:y+height, x:x+width]\n",
    "                if 0 in cropped_img.shape:\n",
    "                    print(cropped_img.shape, bounding_box[1])\n",
    "                train_image_buffer.append(cropped_img)\n",
    "\n",
    "        while time.time() - prev_time < 1./fps:\n",
    "            time.sleep(0.001)\n",
    "            \n",
    "    return train_image_buffer"
   ]
  },
  {
   "cell_type": "code",
   "execution_count": 15,
   "metadata": {},
   "outputs": [],
   "source": [
    "FPS = 1\n",
    "VIDEO_LEN = 180 # Seconds\n",
    "train_imgs = gen_training_data(FPS, VIDEO_LEN, initial_wait=1.5)"
   ]
  },
  {
   "cell_type": "code",
   "execution_count": 16,
   "metadata": {},
   "outputs": [
    {
     "data": {
      "text/plain": [
       "2196"
      ]
     },
     "execution_count": 16,
     "metadata": {},
     "output_type": "execute_result"
    }
   ],
   "source": [
    "len(train_imgs)"
   ]
  },
  {
   "cell_type": "code",
   "execution_count": 17,
   "metadata": {},
   "outputs": [
    {
     "data": {
      "application/vnd.jupyter.widget-view+json": {
       "model_id": "59263370eb6c449093790da5e434347e",
       "version_major": 2,
       "version_minor": 0
      },
      "text/plain": [
       "Button(description='Cow', style=ButtonStyle())"
      ]
     },
     "metadata": {},
     "output_type": "display_data"
    },
    {
     "data": {
      "application/vnd.jupyter.widget-view+json": {
       "model_id": "3045d8d4a6794265ab872e3710d2f694",
       "version_major": 2,
       "version_minor": 0
      },
      "text/plain": [
       "Button(description='NOT Cow', style=ButtonStyle())"
      ]
     },
     "metadata": {},
     "output_type": "display_data"
    },
    {
     "data": {
      "image/png": "[encoded data removed]",
      "text/plain": [
       "<Figure size 432x288 with 1 Axes>"
      ]
     },
     "metadata": {
      "needs_background": "light"
     },
     "output_type": "display_data"
    }
   ],
   "source": [
    "img_idx = 0\n",
    "cow_idx = 0\n",
    "not_cow_idx = 0\n",
    "labels = []\n",
    "\n",
    "cow_button = widgets.Button(description='Cow')\n",
    "not_cow_button = widgets.Button(description='NOT Cow')\n",
    "\n",
    "def display_next():\n",
    "    global img_idx\n",
    "    \n",
    "    clear_output()\n",
    "    plt.imshow(train_imgs[img_idx])\n",
    "    \n",
    "    display(cow_button)\n",
    "    display(not_cow_button)\n",
    "    \n",
    "display_next()\n",
    "\n",
    "def on_cow_click(b):\n",
    "    global img_idx\n",
    "    global cow_idx\n",
    "    \n",
    "    labels.append(1)\n",
    "    cv2.imwrite(f'data/cow/cow_{cow_idx}.png', cv2.cvtColor(train_imgs[img_idx], cv2.COLOR_RGB2BGR))\n",
    "    \n",
    "    img_idx += 1\n",
    "    cow_idx += 1\n",
    "    \n",
    "    display_next()\n",
    "    \n",
    "def on_not_cow_click(b):\n",
    "    global img_idx\n",
    "    global not_cow_idx\n",
    "    \n",
    "    labels.append(0)\n",
    "    cv2.imwrite(f'data/not_cow/not_cow_{not_cow_idx}.png', cv2.cvtColor(train_imgs[img_idx], cv2.COLOR_RGB2BGR))\n",
    "    \n",
    "    img_idx += 1\n",
    "    not_cow_idx += 1\n",
    "    \n",
    "    display_next()\n",
    "    \n",
    "cow_button.on_click(on_cow_click)\n",
    "not_cow_button.on_click(on_not_cow_click)"
   ]
  }
 ],
 "metadata": {
  "kernelspec": {
   "display_name": "Python 3",
   "language": "python",
   "name": "python3"
  },
  "language_info": {
   "codemirror_mode": {
    "name": "ipython",
    "version": 3
   },
   "file_extension": ".py",
   "mimetype": "text/x-python",
   "name": "python",
   "nbconvert_exporter": "python",
   "pygments_lexer": "ipython3",
   "version": "3.7.4"
  }
 },
 "nbformat": 4,
 "nbformat_minor": 2
}
